{
 "cells": [
  {
   "cell_type": "markdown",
   "id": "210910c5-dbcb-4344-ae35-9208e5a9171b",
   "metadata": {},
   "source": [
    "# 1. Git\n",
    "* 버전관리 시스템의 종류\n",
    "* 버전관리: 여러 파일을 하나의 버전으로 묶어 관리하는 것"
   ]
  },
  {
   "cell_type": "markdown",
   "id": "b9e362d9-5493-47e1-9a54-3da99e43f164",
   "metadata": {},
   "source": [
    "### 1-1. 버전관리 시스템의 종류\n",
    "1. 클라이언트 - 서버 모델: 하나의 중앙 서버로 여러 클라이언트들이 각자 필요한 것만 가져와서 작업을 하고 다시 중앙 서버로 보내서 통합하는 방식(SVN, CVS)\n",
    "2. 분산 모델: 하나의 중앙 서버가 존재하지만, 여러 클라이언트들은 각자의 컴퓨터에 저장소에 전체 사존을 가지고 작업하는 방식(Git)"
   ]
  },
  {
   "cell_type": "markdown",
   "id": "a529345b-4cd3-4cc8-9df0-cd8ff79c08a2",
   "metadata": {
    "jp-MarkdownHeadingCollapsed": true
   },
   "source": [
    "### 1-2. Git의 장점\n",
    "* 동시에 작업하는 사람들과 소스코드를 주고받을 필요가 없음\n",
    "* 같은 파일을 여러명이 동시에 병렬 개발이 가능\n",
    "* 변동 과정을 체계적으로 관리할 수 있고, 언제든지 지난 시점의 버전으로 되돌릴 수 있음\n",
    "* 인터넷이 연결되지 않은 곳에서도 개발을 진행할 수 있고, 중앙 서버의 데이터가 유실되어도 다시 복구할 수 있음"
   ]
  },
  {
   "cell_type": "markdown",
   "id": "bbf27088-c8be-4b40-85a7-2b88ae821bd4",
   "metadata": {},
   "source": [
    "### 1-3. Git 설치\n",
    "1. 구글에서 'git 설치' 검색\n",
    "2. 왼쪽 메뉴에서 downloads를 클릭(https://git-scm.com/downloads)\n",
    "3. 모니터 이미지에 있는 다운로드 버튼을 클릭\n",
    "4. 64-bit Git for Windows Setup. 클릭 후 다운로드 및 설치(기본 설정)\n",
    "5. 설치가 끝난 후 git bash를 실행 -> git --version 명령으로 버전을 확인"
   ]
  },
  {
   "cell_type": "markdown",
   "id": "cb58816c-488f-4974-8f41-21db33bde923",
   "metadata": {},
   "source": [
    "# **2. Git 명령어**"
   ]
  },
  {
   "cell_type": "markdown",
   "id": "66c0270d-611e-4210-9dcd-cd89070879f1",
   "metadata": {},
   "source": [
    "### 2-1. 프로젝트 디렉토리 내 '로컬 저장소'를 생성하기\n",
    "- 원하는 프로젝트 위치로 이동 후 'git init'를 실행"
   ]
  },
  {
   "cell_type": "code",
   "execution_count": 1,
   "id": "954b6023-0536-4050-8f35-89c7b5198508",
   "metadata": {},
   "outputs": [
    {
     "name": "stdout",
     "output_type": "stream",
     "text": [
      "Initialized empty Git repository in C:/Ryuzy/Jupyter/.git/\n"
     ]
    }
   ],
   "source": [
    "!git init"
   ]
  },
  {
   "cell_type": "markdown",
   "id": "61e91639-4d2c-4f5b-bd08-147737968e02",
   "metadata": {},
   "source": [
    "### 2-2. 버전을 관리할 파일을 선택(stage에 올림)"
   ]
  },
  {
   "cell_type": "code",
   "execution_count": 2,
   "id": "4bf89f00-252f-478a-84d2-65842e0bf712",
   "metadata": {},
   "outputs": [
    {
     "name": "stderr",
     "output_type": "stream",
     "text": [
      "warning: in the working copy of 'Crawling.ipynb', LF will be replaced by CRLF the next time Git touches it\n"
     ]
    }
   ],
   "source": [
    "!git add Crawling.ipynb"
   ]
  },
  {
   "cell_type": "markdown",
   "id": "9df8634f-f231-4989-bd33-c1b735b841d3",
   "metadata": {},
   "source": [
    "### 2-3. 하나의 버전으로 만들기\n",
    "* 로컬 시스템에서 파일을 생성/수정/삭제한 파일들을 선별하여 버전을 만드는 것\n",
    "* 파일이 변경될 때 변경 사항은 자동으로 저장되지 않음\n",
    "* git에게 새 커밋을 생성하여 변경 사항을 저장하도록 지시"
   ]
  },
  {
   "cell_type": "code",
   "execution_count": 3,
   "id": "4f9624cb-e02d-4fcd-ac22-205a6f4557ee",
   "metadata": {},
   "outputs": [
    {
     "name": "stderr",
     "output_type": "stream",
     "text": [
      "Author identity unknown\n",
      "\n",
      "*** Please tell me who you are.\n",
      "\n",
      "Run\n",
      "\n",
      "  git config --global user.email \"you@example.com\"\n",
      "  git config --global user.name \"Your Name\"\n",
      "\n",
      "to set your account's default identity.\n",
      "Omit --global to set the identity only in this repository.\n",
      "\n",
      "fatal: unable to auto-detect email address (got 'Administrator@DESKTOP-HUJUVSS.(none)')\n"
     ]
    }
   ],
   "source": [
    "!git commit -m \"첫 커밋\""
   ]
  },
  {
   "cell_type": "code",
   "execution_count": 7,
   "id": "f5de2189-9dec-4ffd-98fd-33b9594120df",
   "metadata": {},
   "outputs": [],
   "source": [
    "# 위와 같은 에러가 발생한 경우\n",
    "!git config --global user.email \"ryuzy@kokoo.com\"\n",
    "!git config --global user.name \"류정윈\""
   ]
  },
  {
   "cell_type": "code",
   "execution_count": 8,
   "id": "4f8e4dc3-8c10-41a3-914d-039b95f02ef8",
   "metadata": {},
   "outputs": [],
   "source": [
    "# 만약 이메일 또는 이름을 잘 못 입력한 경우 등록과 동일하게 진행\n",
    "!git config --global user.email \"ryuzy@kakao.com\"\n",
    "!git config --global user.name \"류정원\""
   ]
  },
  {
   "cell_type": "code",
   "execution_count": 6,
   "id": "6f9003ec-0263-4b29-9a6e-e095510e63ff",
   "metadata": {},
   "outputs": [
    {
     "name": "stdout",
     "output_type": "stream",
     "text": [
      "[master (root-commit) 8b1f250] 泥� 而ㅻ컠\n",
      " 1 file changed, 125 insertions(+)\n",
      " create mode 100644 Crawling.ipynb\n"
     ]
    }
   ],
   "source": [
    "!git commit -m \"첫 커밋\""
   ]
  },
  {
   "cell_type": "markdown",
   "id": "34b81a8e-bb16-470c-860e-a23535a25882",
   "metadata": {},
   "source": [
    "### 2-4. 로그 확인하기"
   ]
  },
  {
   "cell_type": "code",
   "execution_count": 9,
   "id": "341f9a5a-7218-4596-a2e9-59e1068c547d",
   "metadata": {},
   "outputs": [
    {
     "name": "stdout",
     "output_type": "stream",
     "text": [
      "commit 8b1f250960754fbb09f39b2cc35c9585c29ee9ad\n",
      "Author: 瑜섏젙�썝 <ryuzy@kakao.com>\n",
      "Date:   Mon Sep 30 21:25:57 2024 +0900\n",
      "\n",
      "    泥� 而ㅻ컠\n"
     ]
    }
   ],
   "source": [
    "!git log"
   ]
  },
  {
   "cell_type": "markdown",
   "id": "7eb80144-4be2-457d-af29-95109995eadd",
   "metadata": {},
   "source": [
    "### 2-5. README.md 만들기\n",
    "* 깃허브에 업로드시 저장소 메인 설명글로 사용되는 파일\n",
    "* 마크다운으로 작성"
   ]
  },
  {
   "cell_type": "markdown",
   "id": "1b2c382a-8b10-4cb4-99bb-d1edf371dbfa",
   "metadata": {},
   "source": [
    "### 2-6. 여러 파일을 함께 선택하기\n",
    "* state에 현재 디렉토리에 있는 변화된 모든 파일을 선택"
   ]
  },
  {
   "cell_type": "code",
   "execution_count": null,
   "id": "9cec907f-fe91-43e5-aa67-2ac8982ae508",
   "metadata": {},
   "outputs": [],
   "source": []
  }
 ],
 "metadata": {
  "kernelspec": {
   "display_name": "Python 3 (ipykernel)",
   "language": "python",
   "name": "python3"
  },
  "language_info": {
   "codemirror_mode": {
    "name": "ipython",
    "version": 3
   },
   "file_extension": ".py",
   "mimetype": "text/x-python",
   "name": "python",
   "nbconvert_exporter": "python",
   "pygments_lexer": "ipython3",
   "version": "3.11.9"
  }
 },
 "nbformat": 4,
 "nbformat_minor": 5
}
